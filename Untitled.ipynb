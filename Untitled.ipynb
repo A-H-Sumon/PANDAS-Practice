{
 "cells": [
  {
   "cell_type": "code",
   "execution_count": 1,
   "id": "e4d33032",
   "metadata": {},
   "outputs": [
    {
     "name": "stdout",
     "output_type": "stream",
     "text": [
      "Hello World\n"
     ]
    }
   ],
   "source": [
    "print(\"Hello World\")"
   ]
  },
  {
   "cell_type": "code",
   "execution_count": 2,
   "id": "a67a7198",
   "metadata": {},
   "outputs": [
    {
     "name": "stdout",
     "output_type": "stream",
     "text": [
      "Hi SUMON\n"
     ]
    }
   ],
   "source": [
    "print(\"Hi SUMON\")"
   ]
  },
  {
   "cell_type": "code",
   "execution_count": 4,
   "id": "b74a00fc",
   "metadata": {},
   "outputs": [
    {
     "name": "stdout",
     "output_type": "stream",
     "text": [
      "                  Name Department Semester    Location University  \\\n",
      "0  Anower Hossen SUMON        CSE      5th  Chittagong       IIUC   \n",
      "1        Irfanul SALAM        CSE      8th  Chittagong       IIUC   \n",
      "2    Hasin Anjum PABON        CSE      5th  Chittagong       IIUC   \n",
      "\n",
      "          Mobile                        E-mail  Values  \n",
      "0   1.857949e+09       a.h.sumon2607@gmail.com     100  \n",
      "1   1.825864e+09             risat36@gmail.com      80  \n",
      "2   1.798383e+09     hasinanjumpabon@gmail.com      70  \n"
     ]
    }
   ],
   "source": [
    "import pandas as pd\n",
    "dir = \"F:\\T-11.xlsx\"\n",
    "data = pd.read_excel(dir)\n",
    "print(data.head(3))"
   ]
  },
  {
   "cell_type": "code",
   "execution_count": 16,
   "id": "fd09c165",
   "metadata": {},
   "outputs": [
    {
     "data": {
      "text/plain": [
       "<AxesSubplot:>"
      ]
     },
     "execution_count": 16,
     "metadata": {},
     "output_type": "execute_result"
    },
    {
     "data": {
      "image/png": "[encoded data removed]",
      "text/plain": [
       "<Figure size 432x288 with 1 Axes>"
      ]
     },
     "metadata": {
      "needs_background": "light"
     },
     "output_type": "display_data"
    }
   ],
   "source": [
    "data['Semester'].value_counts().plot(kind='bar')"
   ]
  },
  {
   "cell_type": "code",
   "execution_count": 29,
   "id": "312f9bd5",
   "metadata": {},
   "outputs": [
    {
     "data": {
      "text/html": [
       "<div>\n",
       "<style scoped>\n",
       "    .dataframe tbody tr th:only-of-type {\n",
       "        vertical-align: middle;\n",
       "    }\n",
       "\n",
       "    .dataframe tbody tr th {\n",
       "        vertical-align: top;\n",
       "    }\n",
       "\n",
       "    .dataframe thead th {\n",
       "        text-align: right;\n",
       "    }\n",
       "</style>\n",
       "<table border=\"1\" class=\"dataframe\">\n",
       "  <thead>\n",
       "    <tr style=\"text-align: right;\">\n",
       "      <th></th>\n",
       "      <th>Semester</th>\n",
       "      <th>Location</th>\n",
       "    </tr>\n",
       "  </thead>\n",
       "  <tbody>\n",
       "    <tr>\n",
       "      <th>0</th>\n",
       "      <td>5th</td>\n",
       "      <td>Chittagong</td>\n",
       "    </tr>\n",
       "    <tr>\n",
       "      <th>1</th>\n",
       "      <td>8th</td>\n",
       "      <td>Chittagong</td>\n",
       "    </tr>\n",
       "    <tr>\n",
       "      <th>2</th>\n",
       "      <td>5th</td>\n",
       "      <td>Chittagong</td>\n",
       "    </tr>\n",
       "    <tr>\n",
       "      <th>3</th>\n",
       "      <td>6th</td>\n",
       "      <td>Chittagong</td>\n",
       "    </tr>\n",
       "    <tr>\n",
       "      <th>4</th>\n",
       "      <td>8th</td>\n",
       "      <td>Chittagong</td>\n",
       "    </tr>\n",
       "    <tr>\n",
       "      <th>5</th>\n",
       "      <td>5th</td>\n",
       "      <td>Chittagong</td>\n",
       "    </tr>\n",
       "    <tr>\n",
       "      <th>6</th>\n",
       "      <td>8th</td>\n",
       "      <td>Chittagong</td>\n",
       "    </tr>\n",
       "    <tr>\n",
       "      <th>7</th>\n",
       "      <td>8th</td>\n",
       "      <td>Chittagong</td>\n",
       "    </tr>\n",
       "    <tr>\n",
       "      <th>8</th>\n",
       "      <td>8th</td>\n",
       "      <td>Chittagong</td>\n",
       "    </tr>\n",
       "    <tr>\n",
       "      <th>9</th>\n",
       "      <td>5th</td>\n",
       "      <td>Chittagong</td>\n",
       "    </tr>\n",
       "    <tr>\n",
       "      <th>10</th>\n",
       "      <td>NaN</td>\n",
       "      <td>NaN</td>\n",
       "    </tr>\n",
       "  </tbody>\n",
       "</table>\n",
       "</div>"
      ],
      "text/plain": [
       "   Semester    Location\n",
       "0       5th  Chittagong\n",
       "1       8th  Chittagong\n",
       "2       5th  Chittagong\n",
       "3       6th  Chittagong\n",
       "4       8th  Chittagong\n",
       "5       5th  Chittagong\n",
       "6       8th  Chittagong\n",
       "7       8th  Chittagong\n",
       "8       8th  Chittagong\n",
       "9       5th  Chittagong\n",
       "10      NaN         NaN"
      ]
     },
     "execution_count": 29,
     "metadata": {},
     "output_type": "execute_result"
    }
   ],
   "source": [
    "data[['Semester', 'Location']]"
   ]
  },
  {
   "cell_type": "code",
   "execution_count": 30,
   "id": "7067a6e4",
   "metadata": {},
   "outputs": [
    {
     "data": {
      "text/plain": [
       "0     Chittagong\n",
       "1     Chittagong\n",
       "2     Chittagong\n",
       "3     Chittagong\n",
       "4     Chittagong\n",
       "5     Chittagong\n",
       "6     Chittagong\n",
       "7     Chittagong\n",
       "8     Chittagong\n",
       "9     Chittagong\n",
       "10           NaN\n",
       "Name: Location, dtype: object"
      ]
     },
     "execution_count": 30,
     "metadata": {},
     "output_type": "execute_result"
    }
   ],
   "source": [
    "data.loc[:,\"Location\"]"
   ]
  },
  {
   "cell_type": "code",
   "execution_count": 31,
   "id": "fb85e98a",
   "metadata": {},
   "outputs": [
    {
     "data": {
      "text/plain": [
       "0           CSE\n",
       "1           CSE\n",
       "2           CSE\n",
       "3           CSE\n",
       "4           CSE\n",
       "5           CSE\n",
       "6           CSE\n",
       "7           CSE\n",
       "8           CSE\n",
       "9           CSE\n",
       "10          NaN\n",
       "Name: Department, dtype: object"
      ]
     },
     "execution_count": 31,
     "metadata": {},
     "output_type": "execute_result"
    }
   ],
   "source": [
    "data.iloc[:, 1]"
   ]
  },
  {
   "cell_type": "code",
   "execution_count": null,
   "id": "d72a09af",
   "metadata": {},
   "outputs": [],
   "source": []
  }
 ],
 "metadata": {
  "kernelspec": {
   "display_name": "Python 3 (ipykernel)",
   "language": "python",
   "name": "python3"
  },
  "language_info": {
   "codemirror_mode": {
    "name": "ipython",
    "version": 3
   },
   "file_extension": ".py",
   "mimetype": "text/x-python",
   "name": "python",
   "nbconvert_exporter": "python",
   "pygments_lexer": "ipython3",
   "version": "3.9.7"
  }
 },
 "nbformat": 4,
 "nbformat_minor": 5
}
