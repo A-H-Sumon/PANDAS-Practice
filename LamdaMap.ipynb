{
 "cells": [
  {
   "cell_type": "code",
   "execution_count": 21,
   "id": "97b4f115",
   "metadata": {},
   "outputs": [
    {
     "data": {
      "text/html": [
       "<div>\n",
       "<style scoped>\n",
       "    .dataframe tbody tr th:only-of-type {\n",
       "        vertical-align: middle;\n",
       "    }\n",
       "\n",
       "    .dataframe tbody tr th {\n",
       "        vertical-align: top;\n",
       "    }\n",
       "\n",
       "    .dataframe thead th {\n",
       "        text-align: right;\n",
       "    }\n",
       "</style>\n",
       "<table border=\"1\" class=\"dataframe\">\n",
       "  <thead>\n",
       "    <tr style=\"text-align: right;\">\n",
       "      <th></th>\n",
       "      <th>Name</th>\n",
       "      <th>Department</th>\n",
       "      <th>Semester</th>\n",
       "      <th>Location</th>\n",
       "      <th>University</th>\n",
       "      <th>Mobile</th>\n",
       "      <th>E-mail</th>\n",
       "      <th>Values</th>\n",
       "    </tr>\n",
       "  </thead>\n",
       "  <tbody>\n",
       "    <tr>\n",
       "      <th>0</th>\n",
       "      <td>Anower Hossen SUMON</td>\n",
       "      <td>CSE</td>\n",
       "      <td>5th</td>\n",
       "      <td>Chittagong</td>\n",
       "      <td>IIUC</td>\n",
       "      <td>1.857949e+09</td>\n",
       "      <td>a.h.sumon2607@gmail.com</td>\n",
       "      <td>100</td>\n",
       "    </tr>\n",
       "    <tr>\n",
       "      <th>1</th>\n",
       "      <td>Irfanul SALAM</td>\n",
       "      <td>CSE</td>\n",
       "      <td>8th</td>\n",
       "      <td>Chittagong</td>\n",
       "      <td>IIUC</td>\n",
       "      <td>1.825864e+09</td>\n",
       "      <td>risat36@gmail.com</td>\n",
       "      <td>80</td>\n",
       "    </tr>\n",
       "  </tbody>\n",
       "</table>\n",
       "</div>"
      ],
      "text/plain": [
       "                  Name Department Semester    Location University  \\\n",
       "0  Anower Hossen SUMON        CSE      5th  Chittagong       IIUC   \n",
       "1        Irfanul SALAM        CSE      8th  Chittagong       IIUC   \n",
       "\n",
       "          Mobile                        E-mail  Values  \n",
       "0   1.857949e+09       a.h.sumon2607@gmail.com     100  \n",
       "1   1.825864e+09             risat36@gmail.com      80  "
      ]
     },
     "execution_count": 21,
     "metadata": {},
     "output_type": "execute_result"
    }
   ],
   "source": [
    "import pandas as pd\n",
    "import numpy as np\n",
    "dir='F:\\T-11.xlsx'\n",
    "data= pd.read_excel(dir)\n",
    "data.head(2)"
   ]
  },
  {
   "cell_type": "code",
   "execution_count": 22,
   "id": "cfe23dba",
   "metadata": {},
   "outputs": [
    {
     "data": {
      "text/plain": [
       "0     100\n",
       "1      80\n",
       "2      70\n",
       "3     100\n",
       "4      90\n",
       "5      50\n",
       "6      60\n",
       "7      55\n",
       "8      95\n",
       "9      85\n",
       "10     40\n",
       "Name: Values, dtype: int64"
      ]
     },
     "execution_count": 22,
     "metadata": {},
     "output_type": "execute_result"
    }
   ],
   "source": [
    "data['Values']"
   ]
  },
  {
   "cell_type": "code",
   "execution_count": 23,
   "id": "82d44b88",
   "metadata": {},
   "outputs": [
    {
     "name": "stdout",
     "output_type": "stream",
     "text": [
      "0     10.0\n",
      "1      8.0\n",
      "2      7.0\n",
      "3     10.0\n",
      "4      9.0\n",
      "5      5.0\n",
      "6      6.0\n",
      "7      5.5\n",
      "8      9.5\n",
      "9      8.5\n",
      "10     4.0\n",
      "Name: Values, dtype: float64\n"
     ]
    }
   ],
   "source": [
    "data['Values']=data['Values'].apply(lambda x: x/10)\n",
    "print(data['Values'])"
   ]
  },
  {
   "cell_type": "code",
   "execution_count": null,
   "id": "7373038d",
   "metadata": {},
   "outputs": [],
   "source": []
  }
 ],
 "metadata": {
  "kernelspec": {
   "display_name": "Python 3 (ipykernel)",
   "language": "python",
   "name": "python3"
  },
  "language_info": {
   "codemirror_mode": {
    "name": "ipython",
    "version": 3
   },
   "file_extension": ".py",
   "mimetype": "text/x-python",
   "name": "python",
   "nbconvert_exporter": "python",
   "pygments_lexer": "ipython3",
   "version": "3.9.7"
  }
 },
 "nbformat": 4,
 "nbformat_minor": 5
}
